{
 "cells": [
  {
   "cell_type": "code",
   "execution_count": 2,
   "metadata": {
    "execution": {
     "iopub.execute_input": "2021-12-10T03:50:05.424338Z",
     "iopub.status.busy": "2021-12-10T03:50:05.42395Z",
     "iopub.status.idle": "2021-12-10T03:50:05.430958Z",
     "shell.execute_reply": "2021-12-10T03:50:05.430065Z",
     "shell.execute_reply.started": "2021-12-10T03:50:05.424293Z"
    },
    "id": "ro9B5yFIU6r3"
   },
   "outputs": [],
   "source": [
    "import numpy as np\n",
    "import pandas as pd\n",
    "\n",
    "import torch \n",
    "from torch import nn\n",
    "from torch.utils.data import DataLoader, TensorDataset\n",
    "import torch.nn.functional as F\n",
    "import torchvision.transforms as transforms\n",
    "import torchvision\n",
    "\n",
    "import matplotlib.pyplot as plt\n"
   ]
  },
  {
   "cell_type": "code",
   "execution_count": 3,
   "metadata": {
    "execution": {
     "iopub.execute_input": "2021-12-10T03:50:05.433965Z",
     "iopub.status.busy": "2021-12-10T03:50:05.43288Z",
     "iopub.status.idle": "2021-12-10T03:50:05.447898Z",
     "shell.execute_reply": "2021-12-10T03:50:05.447083Z",
     "shell.execute_reply.started": "2021-12-10T03:50:05.433912Z"
    }
   },
   "outputs": [],
   "source": [
    "import os\n",
    "for dirname, _, filenames in os.walk('/kaggle/input'):\n",
    "    for filename in filenames:\n",
    "        print(os.path.join(dirname, filename))"
   ]
  },
  {
   "cell_type": "code",
   "execution_count": 10,
   "metadata": {
    "execution": {
     "iopub.execute_input": "2021-12-10T03:50:05.449435Z",
     "iopub.status.busy": "2021-12-10T03:50:05.448914Z",
     "iopub.status.idle": "2021-12-10T03:50:09.752246Z",
     "shell.execute_reply": "2021-12-10T03:50:09.751394Z",
     "shell.execute_reply.started": "2021-12-10T03:50:05.449398Z"
    }
   },
   "outputs": [],
   "source": [
    "train = pd.read_csv(r\"C:\\Users\\Tanya srivastava\\Desktop\\train_digits.csv\")\n",
    "X_test = pd.read_csv(r\"C:\\Users\\Tanya srivastava\\Desktop\\test_digits.csv\")\n"
   ]
  },
  {
   "cell_type": "code",
   "execution_count": 7,
   "metadata": {
    "execution": {
     "iopub.execute_input": "2021-12-10T03:50:09.754618Z",
     "iopub.status.busy": "2021-12-10T03:50:09.754341Z",
     "iopub.status.idle": "2021-12-10T03:50:09.770067Z",
     "shell.execute_reply": "2021-12-10T03:50:09.768813Z",
     "shell.execute_reply.started": "2021-12-10T03:50:09.754586Z"
    }
   },
   "outputs": [],
   "source": [
    "# sub = pd.read_csv('/kaggle/input/digit-recognizer/sample_submission.csv')"
   ]
  },
  {
   "cell_type": "code",
   "execution_count": 11,
   "metadata": {
    "execution": {
     "iopub.execute_input": "2021-12-10T03:50:09.771845Z",
     "iopub.status.busy": "2021-12-10T03:50:09.771605Z",
     "iopub.status.idle": "2021-12-10T03:50:09.778082Z",
     "shell.execute_reply": "2021-12-10T03:50:09.777265Z",
     "shell.execute_reply.started": "2021-12-10T03:50:09.771816Z"
    }
   },
   "outputs": [
    {
     "data": {
      "text/plain": [
       "(42000, 785)"
      ]
     },
     "execution_count": 11,
     "metadata": {},
     "output_type": "execute_result"
    }
   ],
   "source": [
    "train.shape"
   ]
  },
  {
   "cell_type": "code",
   "execution_count": 12,
   "metadata": {
    "execution": {
     "iopub.execute_input": "2021-12-10T03:50:09.780603Z",
     "iopub.status.busy": "2021-12-10T03:50:09.779586Z",
     "iopub.status.idle": "2021-12-10T03:50:10.223501Z",
     "shell.execute_reply": "2021-12-10T03:50:10.222679Z",
     "shell.execute_reply.started": "2021-12-10T03:50:09.780554Z"
    }
   },
   "outputs": [],
   "source": [
    "from sklearn.model_selection import train_test_split\n",
    "\n",
    "x_train, y_train = train.iloc[:, 1:].values , train.iloc[:, 0].values\n",
    "x_train, x_val, y_train, y_val = train_test_split(x_train, y_train, test_size = .25)\n",
    "x_test = X_test.values"
   ]
  },
  {
   "cell_type": "code",
   "execution_count": 13,
   "metadata": {
    "execution": {
     "iopub.execute_input": "2021-12-10T03:50:10.225087Z",
     "iopub.status.busy": "2021-12-10T03:50:10.224784Z",
     "iopub.status.idle": "2021-12-10T03:50:10.23149Z",
     "shell.execute_reply": "2021-12-10T03:50:10.230481Z",
     "shell.execute_reply.started": "2021-12-10T03:50:10.225046Z"
    }
   },
   "outputs": [
    {
     "data": {
      "text/plain": [
       "(31500, 784)"
      ]
     },
     "execution_count": 13,
     "metadata": {},
     "output_type": "execute_result"
    }
   ],
   "source": [
    "x_train.shape"
   ]
  },
  {
   "cell_type": "code",
   "execution_count": 14,
   "metadata": {
    "execution": {
     "iopub.execute_input": "2021-12-10T03:50:10.233244Z",
     "iopub.status.busy": "2021-12-10T03:50:10.232934Z",
     "iopub.status.idle": "2021-12-10T03:50:10.242763Z",
     "shell.execute_reply": "2021-12-10T03:50:10.24195Z",
     "shell.execute_reply.started": "2021-12-10T03:50:10.233202Z"
    }
   },
   "outputs": [],
   "source": [
    "def plotting(x,y,index):\n",
    "    plt.imshow(x[index])\n",
    "    plt.xlabel(y[index])"
   ]
  },
  {
   "cell_type": "code",
   "execution_count": 15,
   "metadata": {
    "execution": {
     "iopub.execute_input": "2021-12-10T03:50:10.244816Z",
     "iopub.status.busy": "2021-12-10T03:50:10.244291Z",
     "iopub.status.idle": "2021-12-10T03:50:10.405695Z",
     "shell.execute_reply": "2021-12-10T03:50:10.405093Z",
     "shell.execute_reply.started": "2021-12-10T03:50:10.24476Z"
    }
   },
   "outputs": [
    {
     "data": {
      "image/png": "[encoded data removed]",
      "text/plain": [
       "<Figure size 432x288 with 1 Axes>"
      ]
     },
     "metadata": {
      "needs_background": "light"
     },
     "output_type": "display_data"
    }
   ],
   "source": [
    "plotting(x_train.reshape((31500,28,28)), y_train, 9)"
   ]
  },
  {
   "cell_type": "code",
   "execution_count": 16,
   "metadata": {
    "execution": {
     "iopub.execute_input": "2021-12-10T03:50:10.409678Z",
     "iopub.status.busy": "2021-12-10T03:50:10.409192Z",
     "iopub.status.idle": "2021-12-10T03:50:10.414822Z",
     "shell.execute_reply": "2021-12-10T03:50:10.413941Z",
     "shell.execute_reply.started": "2021-12-10T03:50:10.409631Z"
    },
    "id": "BkRv4kThW5bK"
   },
   "outputs": [],
   "source": [
    "BATCH_SIZE = 256\n",
    "LR = 0.001\n",
    "epochs = 5\n",
    "n_classes = 10\n",
    "in_channels = 3"
   ]
  },
  {
   "cell_type": "code",
   "execution_count": 17,
   "metadata": {
    "execution": {
     "iopub.execute_input": "2021-12-10T03:50:10.416241Z",
     "iopub.status.busy": "2021-12-10T03:50:10.416018Z",
     "iopub.status.idle": "2021-12-10T03:50:10.62441Z",
     "shell.execute_reply": "2021-12-10T03:50:10.62366Z",
     "shell.execute_reply.started": "2021-12-10T03:50:10.416214Z"
    }
   },
   "outputs": [],
   "source": [
    "x_train = x_train/255\n",
    "x_val = x_val/255\n",
    "x_test = x_test/255"
   ]
  },
  {
   "cell_type": "code",
   "execution_count": 18,
   "metadata": {
    "execution": {
     "iopub.execute_input": "2021-12-10T03:50:10.626327Z",
     "iopub.status.busy": "2021-12-10T03:50:10.625849Z",
     "iopub.status.idle": "2021-12-10T03:50:10.630816Z",
     "shell.execute_reply": "2021-12-10T03:50:10.63013Z",
     "shell.execute_reply.started": "2021-12-10T03:50:10.62629Z"
    }
   },
   "outputs": [],
   "source": [
    "x_train = x_train.reshape(-1,28,28)\n",
    "x_val = x_val.reshape(-1,28,28)\n",
    "x_test = x_test.reshape(-1,28,28)\n"
   ]
  },
  {
   "cell_type": "code",
   "execution_count": 19,
   "metadata": {
    "execution": {
     "iopub.execute_input": "2021-12-10T03:50:10.632595Z",
     "iopub.status.busy": "2021-12-10T03:50:10.632168Z",
     "iopub.status.idle": "2021-12-10T03:50:10.735171Z",
     "shell.execute_reply": "2021-12-10T03:50:10.734511Z",
     "shell.execute_reply.started": "2021-12-10T03:50:10.632563Z"
    }
   },
   "outputs": [],
   "source": [
    "x_train = torch.from_numpy(x_train).type(torch.float32).unsqueeze(1)\n",
    "\n",
    "x_val = torch.from_numpy(x_val).type(torch.float32).unsqueeze(1)\n",
    "x_test = torch.from_numpy(x_test).type(torch.float32).unsqueeze(1)\n",
    "y_train = torch.from_numpy(y_train)\n",
    "y_val = torch.from_numpy(y_val)\n",
    "train_ds = TensorDataset(x_train, y_train)\n",
    "val_ds = TensorDataset(x_val, y_val)\n",
    "train_loader = DataLoader(train_ds, batch_size = BATCH_SIZE, shuffle = True)\n",
    "val_loader = DataLoader(val_ds, batch_size = BATCH_SIZE, shuffle = False)"
   ]
  },
  {
   "cell_type": "code",
   "execution_count": 20,
   "metadata": {
    "execution": {
     "iopub.execute_input": "2021-12-10T03:50:10.73692Z",
     "iopub.status.busy": "2021-12-10T03:50:10.736508Z",
     "iopub.status.idle": "2021-12-10T03:50:10.74715Z",
     "shell.execute_reply": "2021-12-10T03:50:10.746295Z",
     "shell.execute_reply.started": "2021-12-10T03:50:10.736889Z"
    },
    "id": "F8FFL2uzXFQO"
   },
   "outputs": [],
   "source": [
    "class ConvNet(nn.Module):\n",
    "    def __init__(self):\n",
    "        super(ConvNet, self).__init__()\n",
    "        self.conv1 = nn.Conv2d(in_channels =1, out_channels =6, kernel_size = (3,3), stride=(1,1), padding=(1,1))\n",
    "\n",
    "        self.pool = nn.MaxPool2d(kernel_size= (2,2), stride= (2,2))\n",
    "\n",
    "        self.conv2 = nn.Conv2d(in_channels = 6, out_channels =16, kernel_size = (3,3), stride=(1,1), padding=(1,1))\n",
    "        self.fc1 = nn.Linear(16*7*7, 120)\n",
    "\n",
    "        self.fc2 = nn.Linear(120, 80)\n",
    "        self.fc3 = nn.Linear(80, 10)\n",
    "    \n",
    "    def forward(self,x):\n",
    "        x = self.pool(F.relu(self.conv1(x)))\n",
    "        #print(x.shape)\n",
    "\n",
    "        x = self.pool(F.relu(self.conv2(x)))\n",
    "        #print(x.shape)\n",
    "\n",
    "        x = x.view(-1, 16*7*7)\n",
    "        #print( x.shape)\n",
    "        x = F.relu(self.fc1(x))\n",
    "        x = F.relu(self.fc2(x))\n",
    "        x = self.fc3(x)\n",
    "        return x\n",
    "    \n",
    "    "
   ]
  },
  {
   "cell_type": "code",
   "execution_count": 21,
   "metadata": {
    "execution": {
     "iopub.execute_input": "2021-12-10T03:50:10.748865Z",
     "iopub.status.busy": "2021-12-10T03:50:10.748321Z",
     "iopub.status.idle": "2021-12-10T03:50:10.767628Z",
     "shell.execute_reply": "2021-12-10T03:50:10.766746Z",
     "shell.execute_reply.started": "2021-12-10T03:50:10.748825Z"
    },
    "id": "CFzBgMjCXH0s"
   },
   "outputs": [],
   "source": [
    "model = ConvNet()\n"
   ]
  },
  {
   "cell_type": "code",
   "execution_count": 22,
   "metadata": {
    "execution": {
     "iopub.execute_input": "2021-12-10T03:50:10.769934Z",
     "iopub.status.busy": "2021-12-10T03:50:10.769288Z",
     "iopub.status.idle": "2021-12-10T03:50:10.780779Z",
     "shell.execute_reply": "2021-12-10T03:50:10.77995Z",
     "shell.execute_reply.started": "2021-12-10T03:50:10.769879Z"
    },
    "id": "j9dyv0tnXK6z"
   },
   "outputs": [],
   "source": [
    "loss_fn = nn.CrossEntropyLoss()\n",
    "optimizer = torch.optim.Adam(model.parameters(), lr = LR)"
   ]
  },
  {
   "cell_type": "code",
   "execution_count": null,
   "metadata": {
    "execution": {
     "iopub.execute_input": "2021-12-10T03:50:10.782567Z",
     "iopub.status.busy": "2021-12-10T03:50:10.78223Z",
     "iopub.status.idle": "2021-12-10T03:50:28.931912Z",
     "shell.execute_reply": "2021-12-10T03:50:28.930871Z",
     "shell.execute_reply.started": "2021-12-10T03:50:10.78252Z"
    },
    "id": "_sG_9wweXNFR",
    "outputId": "7cd6cc50-2b1a-4fdf-8388-ba850a1f134c"
   },
   "outputs": [
    {
     "name": "stdout",
     "output_type": "stream",
     "text": [
      "Epoch [1/5], Step [1/124], Loss: 2.3055\n",
      "Epoch [1/5], Step [2/124], Loss: 2.3001\n",
      "Epoch [1/5], Step [3/124], Loss: 2.2962\n",
      "Epoch [1/5], Step [4/124], Loss: 2.2922\n",
      "Epoch [1/5], Step [5/124], Loss: 2.2850\n",
      "Epoch [1/5], Step [6/124], Loss: 2.2664\n",
      "Epoch [1/5], Step [7/124], Loss: 2.2648\n",
      "Epoch [1/5], Step [8/124], Loss: 2.2517\n",
      "Epoch [1/5], Step [9/124], Loss: 2.2450\n",
      "Epoch [1/5], Step [10/124], Loss: 2.2299\n",
      "Epoch [1/5], Step [11/124], Loss: 2.2271\n",
      "Epoch [1/5], Step [12/124], Loss: 2.1897\n",
      "Epoch [1/5], Step [13/124], Loss: 2.1806\n",
      "Epoch [1/5], Step [14/124], Loss: 2.1714\n",
      "Epoch [1/5], Step [15/124], Loss: 2.1434\n",
      "Epoch [1/5], Step [16/124], Loss: 2.1078\n",
      "Epoch [1/5], Step [17/124], Loss: 2.1081\n",
      "Epoch [1/5], Step [18/124], Loss: 2.0500\n",
      "Epoch [1/5], Step [19/124], Loss: 2.0105\n",
      "Epoch [1/5], Step [20/124], Loss: 1.9808\n",
      "Epoch [1/5], Step [21/124], Loss: 1.9103\n",
      "Epoch [1/5], Step [22/124], Loss: 1.8488\n",
      "Epoch [1/5], Step [23/124], Loss: 1.7940\n",
      "Epoch [1/5], Step [24/124], Loss: 1.7172\n",
      "Epoch [1/5], Step [25/124], Loss: 1.6787\n",
      "Epoch [1/5], Step [26/124], Loss: 1.6573\n",
      "Epoch [1/5], Step [27/124], Loss: 1.6106\n",
      "Epoch [1/5], Step [28/124], Loss: 1.5378\n",
      "Epoch [1/5], Step [29/124], Loss: 1.4093\n",
      "Epoch [1/5], Step [30/124], Loss: 1.3918\n",
      "Epoch [1/5], Step [31/124], Loss: 1.3506\n",
      "Epoch [1/5], Step [32/124], Loss: 1.2769\n",
      "Epoch [1/5], Step [33/124], Loss: 1.1974\n",
      "Epoch [1/5], Step [34/124], Loss: 1.1313\n",
      "Epoch [1/5], Step [35/124], Loss: 1.1197\n",
      "Epoch [1/5], Step [36/124], Loss: 0.9978\n",
      "Epoch [1/5], Step [37/124], Loss: 1.0209\n",
      "Epoch [1/5], Step [38/124], Loss: 1.0367\n",
      "Epoch [1/5], Step [39/124], Loss: 0.9731\n",
      "Epoch [1/5], Step [40/124], Loss: 0.9213\n",
      "Epoch [1/5], Step [41/124], Loss: 0.9830\n",
      "Epoch [1/5], Step [42/124], Loss: 0.8146\n",
      "Epoch [1/5], Step [43/124], Loss: 0.9482\n",
      "Epoch [1/5], Step [44/124], Loss: 0.8210\n",
      "Epoch [1/5], Step [45/124], Loss: 0.8496\n",
      "Epoch [1/5], Step [46/124], Loss: 0.8209\n",
      "Epoch [1/5], Step [47/124], Loss: 0.7203\n",
      "Epoch [1/5], Step [48/124], Loss: 0.8234\n",
      "Epoch [1/5], Step [49/124], Loss: 0.8464\n",
      "Epoch [1/5], Step [50/124], Loss: 0.7345\n",
      "Epoch [1/5], Step [51/124], Loss: 0.6778\n",
      "Epoch [1/5], Step [52/124], Loss: 0.7154\n",
      "Epoch [1/5], Step [53/124], Loss: 0.7406\n",
      "Epoch [1/5], Step [54/124], Loss: 0.6110\n",
      "Epoch [1/5], Step [55/124], Loss: 0.6599\n",
      "Epoch [1/5], Step [56/124], Loss: 0.6775\n",
      "Epoch [1/5], Step [57/124], Loss: 0.6703\n",
      "Epoch [1/5], Step [58/124], Loss: 0.6313\n",
      "Epoch [1/5], Step [59/124], Loss: 0.6543\n",
      "Epoch [1/5], Step [60/124], Loss: 0.6345\n",
      "Epoch [1/5], Step [61/124], Loss: 0.5586\n",
      "Epoch [1/5], Step [62/124], Loss: 0.6000\n",
      "Epoch [1/5], Step [63/124], Loss: 0.7219\n",
      "Epoch [1/5], Step [64/124], Loss: 0.5255\n",
      "Epoch [1/5], Step [65/124], Loss: 0.5516\n",
      "Epoch [1/5], Step [66/124], Loss: 0.5969\n",
      "Epoch [1/5], Step [67/124], Loss: 0.6258\n",
      "Epoch [1/5], Step [68/124], Loss: 0.4839\n",
      "Epoch [1/5], Step [69/124], Loss: 0.6344\n",
      "Epoch [1/5], Step [70/124], Loss: 0.5455\n",
      "Epoch [1/5], Step [71/124], Loss: 0.6249\n",
      "Epoch [1/5], Step [72/124], Loss: 0.5362\n",
      "Epoch [1/5], Step [73/124], Loss: 0.5841\n",
      "Epoch [1/5], Step [74/124], Loss: 0.5188\n",
      "Epoch [1/5], Step [75/124], Loss: 0.6811\n",
      "Epoch [1/5], Step [76/124], Loss: 0.5443\n",
      "Epoch [1/5], Step [77/124], Loss: 0.5012\n",
      "Epoch [1/5], Step [78/124], Loss: 0.5237\n",
      "Epoch [1/5], Step [79/124], Loss: 0.3902\n",
      "Epoch [1/5], Step [80/124], Loss: 0.4466\n",
      "Epoch [1/5], Step [81/124], Loss: 0.6004\n",
      "Epoch [1/5], Step [82/124], Loss: 0.5484\n",
      "Epoch [1/5], Step [83/124], Loss: 0.6011\n",
      "Epoch [1/5], Step [84/124], Loss: 0.4349\n",
      "Epoch [1/5], Step [85/124], Loss: 0.4519\n",
      "Epoch [1/5], Step [86/124], Loss: 0.4379\n",
      "Epoch [1/5], Step [87/124], Loss: 0.4711\n",
      "Epoch [1/5], Step [88/124], Loss: 0.3759\n",
      "Epoch [1/5], Step [89/124], Loss: 0.4288\n",
      "Epoch [1/5], Step [90/124], Loss: 0.5555\n",
      "Epoch [1/5], Step [91/124], Loss: 0.4325\n",
      "Epoch [1/5], Step [92/124], Loss: 0.4829\n",
      "Epoch [1/5], Step [93/124], Loss: 0.4738\n",
      "Epoch [1/5], Step [94/124], Loss: 0.4336\n",
      "Epoch [1/5], Step [95/124], Loss: 0.3832\n",
      "Epoch [1/5], Step [96/124], Loss: 0.5263\n",
      "Epoch [1/5], Step [97/124], Loss: 0.4132\n",
      "Epoch [1/5], Step [98/124], Loss: 0.4501\n",
      "Epoch [1/5], Step [99/124], Loss: 0.4230\n",
      "Epoch [1/5], Step [100/124], Loss: 0.3593\n",
      "Epoch [1/5], Step [101/124], Loss: 0.4747\n",
      "Epoch [1/5], Step [102/124], Loss: 0.5037\n",
      "Epoch [1/5], Step [103/124], Loss: 0.4044\n",
      "Epoch [1/5], Step [104/124], Loss: 0.3422\n",
      "Epoch [1/5], Step [105/124], Loss: 0.4369\n",
      "Epoch [1/5], Step [106/124], Loss: 0.4094\n",
      "Epoch [1/5], Step [107/124], Loss: 0.3450\n",
      "Epoch [1/5], Step [108/124], Loss: 0.3714\n",
      "Epoch [1/5], Step [109/124], Loss: 0.3953\n",
      "Epoch [1/5], Step [110/124], Loss: 0.3668\n",
      "Epoch [1/5], Step [111/124], Loss: 0.4283\n",
      "Epoch [1/5], Step [112/124], Loss: 0.3113\n",
      "Epoch [1/5], Step [113/124], Loss: 0.3618\n",
      "Epoch [1/5], Step [114/124], Loss: 0.3906\n",
      "Epoch [1/5], Step [115/124], Loss: 0.3719\n",
      "Epoch [1/5], Step [116/124], Loss: 0.3348\n",
      "Epoch [1/5], Step [117/124], Loss: 0.2710\n",
      "Epoch [1/5], Step [118/124], Loss: 0.3806\n",
      "Epoch [1/5], Step [119/124], Loss: 0.2951\n",
      "Epoch [1/5], Step [120/124], Loss: 0.4532\n",
      "Epoch [1/5], Step [121/124], Loss: 0.4303\n",
      "Epoch [1/5], Step [122/124], Loss: 0.3739\n",
      "Epoch [1/5], Step [123/124], Loss: 0.3263\n",
      "Epoch [1/5], Step [124/124], Loss: 0.6107\n",
      "Epoch [2/5], Step [1/124], Loss: 0.3582\n",
      "Epoch [2/5], Step [2/124], Loss: 0.4073\n",
      "Epoch [2/5], Step [3/124], Loss: 0.4231\n",
      "Epoch [2/5], Step [4/124], Loss: 0.4619\n",
      "Epoch [2/5], Step [5/124], Loss: 0.3674\n",
      "Epoch [2/5], Step [6/124], Loss: 0.3973\n",
      "Epoch [2/5], Step [7/124], Loss: 0.3533\n",
      "Epoch [2/5], Step [8/124], Loss: 0.4067\n",
      "Epoch [2/5], Step [9/124], Loss: 0.4222\n",
      "Epoch [2/5], Step [10/124], Loss: 0.3488\n",
      "Epoch [2/5], Step [11/124], Loss: 0.3563\n",
      "Epoch [2/5], Step [12/124], Loss: 0.4148\n",
      "Epoch [2/5], Step [13/124], Loss: 0.2702\n",
      "Epoch [2/5], Step [14/124], Loss: 0.3627\n",
      "Epoch [2/5], Step [15/124], Loss: 0.3348\n",
      "Epoch [2/5], Step [16/124], Loss: 0.2984\n",
      "Epoch [2/5], Step [17/124], Loss: 0.2813\n",
      "Epoch [2/5], Step [18/124], Loss: 0.3386\n",
      "Epoch [2/5], Step [19/124], Loss: 0.3161\n",
      "Epoch [2/5], Step [20/124], Loss: 0.2856\n",
      "Epoch [2/5], Step [21/124], Loss: 0.2949\n",
      "Epoch [2/5], Step [22/124], Loss: 0.2999\n",
      "Epoch [2/5], Step [23/124], Loss: 0.3621\n",
      "Epoch [2/5], Step [24/124], Loss: 0.2841\n",
      "Epoch [2/5], Step [25/124], Loss: 0.2813\n",
      "Epoch [2/5], Step [26/124], Loss: 0.2303\n",
      "Epoch [2/5], Step [27/124], Loss: 0.2570\n",
      "Epoch [2/5], Step [28/124], Loss: 0.3503\n",
      "Epoch [2/5], Step [29/124], Loss: 0.2795\n",
      "Epoch [2/5], Step [30/124], Loss: 0.2994\n",
      "Epoch [2/5], Step [31/124], Loss: 0.3147\n",
      "Epoch [2/5], Step [32/124], Loss: 0.3696\n",
      "Epoch [2/5], Step [33/124], Loss: 0.2799\n",
      "Epoch [2/5], Step [34/124], Loss: 0.3167\n",
      "Epoch [2/5], Step [35/124], Loss: 0.2462\n",
      "Epoch [2/5], Step [36/124], Loss: 0.3243\n",
      "Epoch [2/5], Step [37/124], Loss: 0.2882\n",
      "Epoch [2/5], Step [38/124], Loss: 0.2239\n",
      "Epoch [2/5], Step [39/124], Loss: 0.2694\n",
      "Epoch [2/5], Step [40/124], Loss: 0.2477\n",
      "Epoch [2/5], Step [41/124], Loss: 0.3408\n",
      "Epoch [2/5], Step [42/124], Loss: 0.2313\n",
      "Epoch [2/5], Step [43/124], Loss: 0.2969\n",
      "Epoch [2/5], Step [44/124], Loss: 0.3506\n",
      "Epoch [2/5], Step [45/124], Loss: 0.3395\n",
      "Epoch [2/5], Step [46/124], Loss: 0.2707\n",
      "Epoch [2/5], Step [47/124], Loss: 0.3042\n",
      "Epoch [2/5], Step [48/124], Loss: 0.2861\n",
      "Epoch [2/5], Step [49/124], Loss: 0.2698\n"
     ]
    }
   ],
   "source": [
    "n_total_steps = len(train_loader)\n",
    "\n",
    "for epoch in range (epochs):\n",
    "    for i, (images,labels) in enumerate(train_loader):\n",
    "        #print(images.shape)\n",
    "        #images = images.reshape(images.shape[0], -1)\n",
    "        #forward\n",
    "        #outputs = model(images)\n",
    "        #loss = loss_fn(outputs,labels)\n",
    "        score  = model(images)\n",
    "        loss = loss_fn(score, labels)\n",
    "        #backward\n",
    "        optimizer.zero_grad()\n",
    "        loss.backward()\n",
    "        \n",
    "        optimizer.step()\n",
    "       \n",
    "        print (f'Epoch [{epoch+1}/{epochs}], Step [{i+1}/{n_total_steps}], Loss: {loss.item():.4f}')"
   ]
  },
  {
   "cell_type": "code",
   "execution_count": null,
   "metadata": {
    "execution": {
     "iopub.execute_input": "2021-12-10T03:50:28.933438Z",
     "iopub.status.busy": "2021-12-10T03:50:28.933201Z",
     "iopub.status.idle": "2021-12-10T03:50:28.940632Z",
     "shell.execute_reply": "2021-12-10T03:50:28.939536Z",
     "shell.execute_reply.started": "2021-12-10T03:50:28.933409Z"
    },
    "id": "zRMsuxvqXPc7"
   },
   "outputs": [],
   "source": [
    "def check_acc (loader, model):\n",
    "    num_correct = 0\n",
    "    num_samples = 0\n",
    "    model.eval()\n",
    "    \n",
    "    with torch.no_grad():\n",
    "        for x, y in loader:\n",
    "            outputs = model(x)\n",
    "            _, pred = outputs.max(1)\n",
    "            num_correct += (pred==y).sum()\n",
    "            num_samples += pred.size(0)\n",
    "            print(f'Got {num_correct}/{num_samples} with accuracy {float(num_correct/float(num_samples)*100):.2f}')\n",
    "        \n",
    "    model.train()"
   ]
  },
  {
   "cell_type": "code",
   "execution_count": null,
   "metadata": {
    "execution": {
     "iopub.execute_input": "2021-12-10T03:50:28.942125Z",
     "iopub.status.busy": "2021-12-10T03:50:28.941884Z",
     "iopub.status.idle": "2021-12-10T03:50:30.655117Z",
     "shell.execute_reply": "2021-12-10T03:50:30.654161Z",
     "shell.execute_reply.started": "2021-12-10T03:50:28.942095Z"
    },
    "id": "ai_2_LTIcpza",
    "outputId": "217fd1e6-ef30-4ad7-93d0-07b5d79a25a9"
   },
   "outputs": [],
   "source": [
    "check_acc(train_loader, model)"
   ]
  },
  {
   "cell_type": "code",
   "execution_count": null,
   "metadata": {
    "execution": {
     "iopub.execute_input": "2021-12-10T03:55:23.631934Z",
     "iopub.status.busy": "2021-12-10T03:55:23.631278Z",
     "iopub.status.idle": "2021-12-10T03:55:24.3441Z",
     "shell.execute_reply": "2021-12-10T03:55:24.343215Z",
     "shell.execute_reply.started": "2021-12-10T03:55:23.631891Z"
    },
    "id": "lwHWKv10ct9b",
    "outputId": "1eb4af3e-0120-4e56-db82-0a9bc35b22cb"
   },
   "outputs": [],
   "source": [
    "check_acc(val_loader, model)\n"
   ]
  },
  {
   "cell_type": "code",
   "execution_count": null,
   "metadata": {
    "execution": {
     "iopub.execute_input": "2021-12-10T04:03:14.153979Z",
     "iopub.status.busy": "2021-12-10T04:03:14.153697Z",
     "iopub.status.idle": "2021-12-10T04:03:14.158271Z",
     "shell.execute_reply": "2021-12-10T04:03:14.157603Z",
     "shell.execute_reply.started": "2021-12-10T04:03:14.153945Z"
    }
   },
   "outputs": [],
   "source": [
    "test_loader=DataLoader(x_test,batch_size=1)"
   ]
  },
  {
   "cell_type": "code",
   "execution_count": null,
   "metadata": {},
   "outputs": [],
   "source": []
  },
  {
   "cell_type": "code",
   "execution_count": null,
   "metadata": {
    "execution": {
     "iopub.execute_input": "2021-12-10T04:04:49.108254Z",
     "iopub.status.busy": "2021-12-10T04:04:49.107963Z",
     "iopub.status.idle": "2021-12-10T04:05:01.329610Z",
     "shell.execute_reply": "2021-12-10T04:05:01.328717Z",
     "shell.execute_reply.started": "2021-12-10T04:04:49.108222Z"
    }
   },
   "outputs": [],
   "source": [
    "result=pd.DataFrame(columns=['ImageId','Label'])\n",
    "serial=[]\n",
    "ans=[]\n",
    "model.eval()\n",
    "for s,i in enumerate(test_loader):\n",
    "    serial.append(s+1)\n",
    "    ans.append(model(i).argmax())\n",
    "result['ImageId']=serial    \n",
    "result['Label']=np.array(ans)"
   ]
  },
  {
   "cell_type": "code",
   "execution_count": null,
   "metadata": {
    "execution": {
     "iopub.execute_input": "2021-12-10T04:05:30.591419Z",
     "iopub.status.busy": "2021-12-10T04:05:30.590846Z",
     "iopub.status.idle": "2021-12-10T04:05:30.650194Z",
     "shell.execute_reply": "2021-12-10T04:05:30.649317Z",
     "shell.execute_reply.started": "2021-12-10T04:05:30.591367Z"
    }
   },
   "outputs": [],
   "source": [
    "result.to_csv(\"result.csv\",index=False)"
   ]
  },
  {
   "cell_type": "code",
   "execution_count": null,
   "metadata": {
    "execution": {
     "iopub.execute_input": "2021-12-10T04:05:38.315723Z",
     "iopub.status.busy": "2021-12-10T04:05:38.315418Z",
     "iopub.status.idle": "2021-12-10T04:05:38.333904Z",
     "shell.execute_reply": "2021-12-10T04:05:38.333086Z",
     "shell.execute_reply.started": "2021-12-10T04:05:38.315690Z"
    }
   },
   "outputs": [],
   "source": [
    "result\n"
   ]
  },
  {
   "cell_type": "code",
   "execution_count": null,
   "metadata": {},
   "outputs": [],
   "source": [
    "import base64\n",
    "import pandas as pd\n",
    "from IPython.display import HTML\n",
    "\n",
    "def create_download_link( df, title = \"Download CSV file\", filename = \"result.csv\"):\n",
    "    csv = df.to_csv()\n",
    "    b64 = base64.b64encode(csv.encode())\n",
    "    payload = b64.decode()\n",
    "    html = '<a download=\"{filename}\" href=\"data:text/csv;base64,{payload}\" target=\"_blank\">{title}</a>'\n",
    "    html = html.format(payload=payload,title=title,filename=filename)\n",
    "    return HTML(html)\n",
    "\n",
    "df = pd.DataFrame(data = [[1,2],[3,4]], columns=['Col 1', 'Col 2'])\n",
    "create_download_link(df)\n"
   ]
  },
  {
   "cell_type": "code",
   "execution_count": null,
   "metadata": {},
   "outputs": [],
   "source": []
  }
 ],
 "metadata": {
  "kernelspec": {
   "display_name": "Python 3",
   "language": "python",
   "name": "python3"
  },
  "language_info": {
   "codemirror_mode": {
    "name": "ipython",
    "version": 3
   },
   "file_extension": ".py",
   "mimetype": "text/x-python",
   "name": "python",
   "nbconvert_exporter": "python",
   "pygments_lexer": "ipython3",
   "version": "3.8.8"
  }
 },
 "nbformat": 4,
 "nbformat_minor": 4
}
